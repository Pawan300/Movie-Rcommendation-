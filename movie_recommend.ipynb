{
 "cells": [
  {
   "cell_type": "code",
   "execution_count": 97,
   "metadata": {},
   "outputs": [],
   "source": [
    "import pandas as pd\n",
    "import numpy as np\n",
    "from matplotlib import pyplot as plt\n",
    "import sorting\n",
    "import random\n",
    "from sklearn.preprocessing import MinMaxScaler\n",
    "import math\n",
    "from collections import Counter,OrderedDict"
   ]
  },
  {
   "cell_type": "markdown",
   "metadata": {},
   "source": [
    "## Importing Data "
   ]
  },
  {
   "cell_type": "code",
   "execution_count": 6,
   "metadata": {},
   "outputs": [],
   "source": [
    "movie_data=pd.read_csv('/home/acer/Downloads/ml-latest-small/movies.csv')\n",
    "ratings=pd.read_csv('/home/acer/Downloads/ml-latest-small/ratings.csv')\n"
   ]
  },
  {
   "cell_type": "code",
   "execution_count": 7,
   "metadata": {},
   "outputs": [],
   "source": [
    "user_rating=np.zeros((len(np.unique(ratings['userId'])),len(np.unique(ratings['movieId']))))\n",
    "train=np.zeros(user_rating.shape)\n",
    "test=np.zeros(user_rating.shape)"
   ]
  },
  {
   "cell_type": "markdown",
   "metadata": {},
   "source": [
    "# User ratings"
   ]
  },
  {
   "cell_type": "code",
   "execution_count": 72,
   "metadata": {},
   "outputs": [
    {
     "data": {
      "image/png": "[encoded data removed]",
      "text/plain": [
       "<Figure size 432x288 with 1 Axes>"
      ]
     },
     "metadata": {
      "needs_background": "light"
     },
     "output_type": "display_data"
    }
   ],
   "source": [
    "plt.hist(ratings['rating'],rwidth=0.5)\n",
    "plt.show()"
   ]
  },
  {
   "cell_type": "code",
   "execution_count": 79,
   "metadata": {},
   "outputs": [
    {
     "name": "stdout",
     "output_type": "stream",
     "text": [
      "Number of Users : 610\n",
      "Number of movies : 9742\n"
     ]
    }
   ],
   "source": [
    "print(\"Number of Users :\",len(np.unique(ratings[\"userId\"])))\n",
    "print(\"Number of movies :\",len(np.unique(movie_data[\"movieId\"])))"
   ]
  },
  {
   "cell_type": "code",
   "execution_count": 129,
   "metadata": {},
   "outputs": [
    {
     "name": "stdout",
     "output_type": "stream",
     "text": [
      "Movies with highest number of user ratings :\n",
      "Age of Innocence, The (1993)\n",
      "I Love Trouble (1994)\n",
      "Virtuosity (1995)\n",
      "Cemetery Man (Dellamorte Dellamore) (1994)\n",
      "Teenage Mutant Ninja Turtles II: The Secret of the Ooze (1991)\n",
      "Quiz Show (1994)\n",
      "Terminal Velocity (1994)\n",
      "Jupiter's Wife (1994)\n",
      "Last Dance (1996)\n",
      "Aristocats, The (1970)\n",
      "Billy Elliot (2000)\n",
      "Jumanji (1995)\n",
      "Picture Perfect (1997)\n",
      "Georgia (1995)\n",
      "Autumn in New York (2000)\n"
     ]
    }
   ],
   "source": [
    "print(\"Movies with highest number of user ratings :\")\n",
    "for i in sorted(Counter(ratings[\"movieId\"]).items(), key=lambda x: x[1],reverse=True)[:15]:\n",
    "    print(movie_data[\"title\"][i[0]])"
   ]
  },
  {
   "cell_type": "code",
   "execution_count": 135,
   "metadata": {},
   "outputs": [
    {
     "name": "stdout",
     "output_type": "stream",
     "text": [
      "User who gave more ratings (User Number,Number of movies) :\n"
     ]
    },
    {
     "data": {
      "text/plain": [
       "[(414, 2698),\n",
       " (599, 2478),\n",
       " (474, 2108),\n",
       " (448, 1864),\n",
       " (274, 1346),\n",
       " (610, 1302),\n",
       " (68, 1260),\n",
       " (380, 1218),\n",
       " (606, 1115),\n",
       " (288, 1055),\n",
       " (249, 1046),\n",
       " (387, 1027),\n",
       " (182, 977),\n",
       " (307, 975),\n",
       " (603, 943)]"
      ]
     },
     "execution_count": 135,
     "metadata": {},
     "output_type": "execute_result"
    }
   ],
   "source": [
    "print(\"User who gave more ratings (User Number,Number of movies) :\")\n",
    "sorted(Counter(ratings[\"userId\"]).items(), key=lambda x: x[1],reverse=True)[:15]"
   ]
  },
  {
   "cell_type": "markdown",
   "metadata": {},
   "source": [
    "# User Rating Matrix"
   ]
  },
  {
   "cell_type": "code",
   "execution_count": 8,
   "metadata": {},
   "outputs": [],
   "source": [
    "for i in np.unique(ratings['userId']):\n",
    "    k=ratings[ratings['userId']==i]\n",
    "    for j in range(len(k)):\n",
    "        if (k['movieId'].iloc[j]-1<=9742):\n",
    "            user_rating[i-1,k['movieId'].iloc[j]-1]=k['rating'].iloc[j]"
   ]
  },
  {
   "cell_type": "markdown",
   "metadata": {},
   "source": [
    "## Test Train split"
   ]
  },
  {
   "cell_type": "code",
   "execution_count": 9,
   "metadata": {},
   "outputs": [],
   "source": [
    "t=int(np.count_nonzero(user_rating)*80/100)\n",
    "non_zero=[]\n",
    "for i in range(user_rating.shape[0]):\n",
    "    for j in range(user_rating.shape[1]):\n",
    "        if(user_rating[i,j]!=0):\n",
    "            non_zero.append([i,j])\n",
    "k=0\n",
    "while(k<=t):\n",
    "    i=random.randint(1,len(non_zero)-1)\n",
    "    train[non_zero[i][0],non_zero[i][1]]=user_rating[non_zero[i][0],non_zero[i][1]]\n",
    "    non_zero.remove(non_zero[i])\n",
    "    k=k+1"
   ]
  },
  {
   "cell_type": "code",
   "execution_count": 10,
   "metadata": {},
   "outputs": [
    {
     "data": {
      "text/plain": [
       "array([[0. , 0. , 4. , ..., 0. , 0. , 0. ],\n",
       "       [0. , 0. , 0. , ..., 0. , 0. , 0. ],\n",
       "       [0. , 0. , 0. , ..., 0. , 0. , 0. ],\n",
       "       ...,\n",
       "       [2.5, 2. , 2. , ..., 0. , 0. , 0. ],\n",
       "       [3. , 0. , 0. , ..., 0. , 0. , 0. ],\n",
       "       [0. , 0. , 0. , ..., 0. , 0. , 0. ]])"
      ]
     },
     "execution_count": 10,
     "metadata": {},
     "output_type": "execute_result"
    }
   ],
   "source": [
    "train"
   ]
  },
  {
   "cell_type": "code",
   "execution_count": 11,
   "metadata": {},
   "outputs": [],
   "source": [
    "for i in non_zero:\n",
    "    test[i[0],i[1]]=user_rating[i[0],i[1]]"
   ]
  },
  {
   "cell_type": "code",
   "execution_count": 12,
   "metadata": {},
   "outputs": [
    {
     "data": {
      "text/plain": [
       "array([[4., 0., 0., ..., 0., 0., 0.],\n",
       "       [0., 0., 0., ..., 0., 0., 0.],\n",
       "       [0., 0., 0., ..., 0., 0., 0.],\n",
       "       ...,\n",
       "       [0., 0., 0., ..., 0., 0., 0.],\n",
       "       [0., 0., 0., ..., 0., 0., 0.],\n",
       "       [5., 0., 0., ..., 0., 0., 0.]])"
      ]
     },
     "execution_count": 12,
     "metadata": {},
     "output_type": "execute_result"
    }
   ],
   "source": [
    "test"
   ]
  },
  {
   "cell_type": "markdown",
   "metadata": {},
   "source": [
    "## Matrix factorization"
   ]
  },
  {
   "cell_type": "code",
   "execution_count": 25,
   "metadata": {},
   "outputs": [],
   "source": [
    "user=np.random.rand(user_rating.shape[0],5)\n",
    "movies=np.random.randint(4,size=(user_rating.shape[1],5))\n",
    "I=np.zeros(user_rating.shape)"
   ]
  },
  {
   "cell_type": "code",
   "execution_count": 26,
   "metadata": {},
   "outputs": [],
   "source": [
    "for i in range(user_rating.shape[0]):\n",
    "    for j in range(user_rating.shape[1]):\n",
    "        if(user_rating[i][j]!=0):\n",
    "            I[i][j]=1"
   ]
  },
  {
   "cell_type": "code",
   "execution_count": 27,
   "metadata": {},
   "outputs": [],
   "source": [
    "def gradient(user,movies,result):\n",
    "    user=user+2*0.000001*(result.dot(movies))\n",
    "    movies=movies+2*0.000001*(result.T.dot(user))\n",
    "    return(user,movies)\n",
    "def prediction(user,movies,user_r,k):\n",
    "    error=[]\n",
    "    for i in range(k):\n",
    "        result=np.multiply((user_r-user.dot(movies.T)),I)\n",
    "        user,movie=gradient(user,movies,result)\n",
    "        error.append(np.sum(np.square(result)))\n",
    "    return(error,user,movies)"
   ]
  },
  {
   "cell_type": "code",
   "execution_count": 28,
   "metadata": {},
   "outputs": [],
   "source": [
    "def accuracy (user,movies,data,k):\n",
    "    error1=prediction(user,movies,data,k)\n",
    "    result1=error1[1].dot(error1[2].T)\n",
    "    e=0\n",
    "    for i in range(data.shape[0]):\n",
    "        for j in range(data.shape[1]):\n",
    "            if(data[i,j]!=0):\n",
    "                e+=(data[i,j]-result1[i,j])**2\n",
    "    return(math.sqrt(e/np.count_nonzero(data)),result1)"
   ]
  },
  {
   "cell_type": "code",
   "execution_count": 267,
   "metadata": {},
   "outputs": [],
   "source": [
    "train_ac,train_result=accuracy(user,movies,train,2000)\n",
    "test_ac,test_result=accuracy(user,movies,test,2000)"
   ]
  },
  {
   "cell_type": "code",
   "execution_count": 268,
   "metadata": {},
   "outputs": [
    {
     "data": {
      "text/plain": [
       "2.9576379174813496"
      ]
     },
     "execution_count": 268,
     "metadata": {},
     "output_type": "execute_result"
    }
   ],
   "source": [
    "test_ac"
   ]
  },
  {
   "cell_type": "code",
   "execution_count": 269,
   "metadata": {},
   "outputs": [
    {
     "data": {
      "text/plain": [
       "1.6018630520006094"
      ]
     },
     "execution_count": 269,
     "metadata": {},
     "output_type": "execute_result"
    }
   ],
   "source": [
    "train_ac"
   ]
  },
  {
   "cell_type": "markdown",
   "metadata": {},
   "source": [
    "## Regularised Matrix Factorization"
   ]
  },
  {
   "cell_type": "code",
   "execution_count": 43,
   "metadata": {},
   "outputs": [],
   "source": [
    "beta=0.0001\n",
    "def prediction2(user,movies,user_r,k):\n",
    "    error=[]\n",
    "    for i in range(k):\n",
    "        result=np.square(np.multiply((user_r-user.dot(movies.T)),I))+beta*((np.sum(np.square(user))+(np.sum(np.square(movies)))))\n",
    "        user,movies=gradient2(user,movies,result)\n",
    "        error.append(np.sum(1/(2*user_r.shape[0])*np.square(result)))\n",
    "    return(error,user,movies)\n",
    "\n",
    "def gradient2(user,movies,result):\n",
    "    user=user-0.000000001*(2*(result.dot(movies))+2*beta*(np.sum(user)))\n",
    "    movies=movies-0.00000001*(2*(result.T.dot(user))+2*beta*np.sum(movies))\n",
    "    return(user,movies)"
   ]
  },
  {
   "cell_type": "code",
   "execution_count": 44,
   "metadata": {},
   "outputs": [],
   "source": [
    "def accuracy_regularised(user,movies,data,k):\n",
    "    error2=prediction2(user,movies,data,k)\n",
    "    result2=error2[1].dot(error2[2].T)\n",
    "    e=0\n",
    "    for i in range(data.shape[0]):\n",
    "        for j in range(data.shape[1]):\n",
    "            if(data[i,j]!=0):\n",
    "                e+=(data[i,j]-result2[i,j])**2\n",
    "    return(math.sqrt(e/np.count_nonzero(data)),result2)"
   ]
  },
  {
   "cell_type": "code",
   "execution_count": 276,
   "metadata": {},
   "outputs": [],
   "source": [
    "train_ac_r,train_result_re=accuracy_regularised(user,movies,train,100)\n",
    "test_ac_r,test_result_re=accuracy_regularised(user,movies,test,100)"
   ]
  },
  {
   "cell_type": "code",
   "execution_count": 277,
   "metadata": {},
   "outputs": [
    {
     "data": {
      "text/plain": [
       "1.9052207875558322"
      ]
     },
     "execution_count": 277,
     "metadata": {},
     "output_type": "execute_result"
    }
   ],
   "source": [
    "train_ac_r"
   ]
  },
  {
   "cell_type": "code",
   "execution_count": 278,
   "metadata": {},
   "outputs": [
    {
     "data": {
      "text/plain": [
       "1.8984889166291525"
      ]
     },
     "execution_count": 278,
     "metadata": {},
     "output_type": "execute_result"
    }
   ],
   "source": [
    "test_ac_r"
   ]
  },
  {
   "cell_type": "markdown",
   "metadata": {},
   "source": [
    "## Sliding window "
   ]
  },
  {
   "cell_type": "code",
   "execution_count": 137,
   "metadata": {},
   "outputs": [],
   "source": [
    "def gradient_sliding_w(user,movies,result):\n",
    "    user=user+2*0.0000001*(result.dot(movies))\n",
    "    movies=movies+2*0.0000001*(result.T.dot(user))\n",
    "    return(user,movies)\n",
    "def prediction_sliding_w(user,movies,user_r,k,win_size):\n",
    "    error=[]\n",
    "    win=[]\n",
    "    for i in range(k):\n",
    "        result=np.multiply((user_r-user.dot(movies.T)),I)\n",
    "        user,movie=gradient_sliding_w(user,movies,result)\n",
    "        e=np.sum(np.square(result))\n",
    "        error.append(e)\n",
    "        if(i<win_size):\n",
    "            win.append(e)\n",
    "        else:\n",
    "            mean1=sum(win)/win_size\n",
    "            del win[0]\n",
    "            win.append(e)\n",
    "            mean2=sum(win)/win_size\n",
    "            if(mean1<mean2):\n",
    "                break\n",
    "            else:\n",
    "                continue\n",
    "    return(error,user,movies)"
   ]
  },
  {
   "cell_type": "code",
   "execution_count": 138,
   "metadata": {},
   "outputs": [],
   "source": [
    "def accuracy_sliding_w(user,movies,data,k,win_size):\n",
    "    error1=prediction_sliding_w(user,movies,data,k,win_size)\n",
    "    result1=error1[1].dot(error1[2].T)\n",
    "    e=0\n",
    "    for i in range(data.shape[0]):\n",
    "        for j in range(data.shape[1]):\n",
    "            if(data[i,j]!=0):\n",
    "                e+=(data[i,j]-result1[i,j])**2\n",
    "    return(math.sqrt(e/np.count_nonzero(data)),result1)"
   ]
  },
  {
   "cell_type": "code",
   "execution_count": 139,
   "metadata": {},
   "outputs": [],
   "source": [
    "train_ac_sw,train_result_sw=accuracy_sliding_w(user,movies,train,2000,10)\n",
    "test_ac_sw,test_result_sw=accuracy_sliding_w(user,movies,test,2000,10)"
   ]
  },
  {
   "cell_type": "code",
   "execution_count": 140,
   "metadata": {},
   "outputs": [
    {
     "data": {
      "text/plain": [
       "1.6741925079136388"
      ]
     },
     "execution_count": 140,
     "metadata": {},
     "output_type": "execute_result"
    }
   ],
   "source": [
    "train_ac_sw"
   ]
  },
  {
   "cell_type": "code",
   "execution_count": 141,
   "metadata": {},
   "outputs": [
    {
     "data": {
      "text/plain": [
       "2.428895401985971"
      ]
     },
     "execution_count": 141,
     "metadata": {},
     "output_type": "execute_result"
    }
   ],
   "source": [
    "test_ac_sw"
   ]
  },
  {
   "cell_type": "markdown",
   "metadata": {},
   "source": [
    "# Line Search "
   ]
  },
  {
   "cell_type": "code",
   "execution_count": 229,
   "metadata": {},
   "outputs": [],
   "source": [
    "def gradient_line_search(user,movies,result,alpha):\n",
    "    user=user+2*alpha*(result.dot(movies))\n",
    "    movies=movies+2*alpha*(result.T.dot(user))\n",
    "    return(user,movies)\n",
    "def prediction_line_search(user,movies,user_r,k,threshold):\n",
    "    error=[]\n",
    "    jold=0\n",
    "    jnew=0\n",
    "    alpha=1/9000\n",
    "    for i in range(k):\n",
    "        result=np.multiply((user_r-user.dot(movies.T)),I)\n",
    "        jnew=np.sum(np.square(result))\n",
    "        error.append([jnew])\n",
    "        if(abs(jold-jnew)>threshold):\n",
    "            alpha=alpha/10\n",
    "            user,movie=gradient_line_search(user,movies,result,alpha)\n",
    "        else:\n",
    "            break\n",
    "        jold=jnew\n",
    "    return(error,user,movies)"
   ]
  },
  {
   "cell_type": "code",
   "execution_count": 230,
   "metadata": {},
   "outputs": [],
   "source": [
    "def accuracy_line_search(user,movies,data,k,win_size):\n",
    "    error1=prediction_line_search(user,movies,data,k,win_size)\n",
    "    result1=error1[1].dot(error1[2].T)\n",
    "    e=0\n",
    "    for i in range(data.shape[0]):\n",
    "        for j in range(data.shape[1]):\n",
    "            if(data[i,j]!=0):\n",
    "                e+=(data[i,j]-result1[i,j])**2\n",
    "    return(math.sqrt(e/np.count_nonzero(data)),result1)"
   ]
  },
  {
   "cell_type": "code",
   "execution_count": 232,
   "metadata": {},
   "outputs": [],
   "source": [
    "train_ac_ls,train_result_ls=accuracy_line_search(user,movies,train,1000,0.001)\n",
    "test_ac_ls,test_result_ls=accuracy_line_search(user,movies,test,1000,0.001)"
   ]
  },
  {
   "cell_type": "code",
   "execution_count": 233,
   "metadata": {},
   "outputs": [
    {
     "data": {
      "text/plain": [
       "1.8929676596520677"
      ]
     },
     "execution_count": 233,
     "metadata": {},
     "output_type": "execute_result"
    }
   ],
   "source": [
    "train_ac_ls"
   ]
  },
  {
   "cell_type": "code",
   "execution_count": 234,
   "metadata": {},
   "outputs": [
    {
     "data": {
      "text/plain": [
       "1.8947140478548752"
      ]
     },
     "execution_count": 234,
     "metadata": {},
     "output_type": "execute_result"
    }
   ],
   "source": [
    "test_ac_ls"
   ]
  },
  {
   "cell_type": "markdown",
   "metadata": {},
   "source": [
    "# Recommendation"
   ]
  },
  {
   "cell_type": "code",
   "execution_count": 154,
   "metadata": {},
   "outputs": [],
   "source": [
    "def find_movie(rating_matrix):\n",
    "    l=[]\n",
    "    for i in range(rating_matrix.shape[0]):\n",
    "        t=[]\n",
    "        q=sorted(range(len(rating_matrix[0])), key=lambda k: rating_matrix[i][k])\n",
    "        q.reverse()\n",
    "        for j in q:\n",
    "            if(user_rating[i,j]==0):\n",
    "                t.append(j)\n",
    "        l.append(t)\n",
    "    return(l)"
   ]
  },
  {
   "cell_type": "code",
   "execution_count": 155,
   "metadata": {},
   "outputs": [],
   "source": [
    "def recommendation(user,n,l):\n",
    "    i=0\n",
    "    while(n>=0):\n",
    "        print(l[user][i],\"    \",movie_data[\"title\"][l[user][i]])\n",
    "        i=i+1\n",
    "        n=n-1"
   ]
  },
  {
   "cell_type": "code",
   "execution_count": 156,
   "metadata": {},
   "outputs": [],
   "source": [
    "t=prediction(user,movies,user_rating,1000)\n",
    "predicted_matrix=t[1].dot(t[2].T)"
   ]
  },
  {
   "cell_type": "code",
   "execution_count": 165,
   "metadata": {},
   "outputs": [
    {
     "name": "stdout",
     "output_type": "stream",
     "text": [
      "9102      Slow Learners (2015)\n",
      "8446      The Fault in Our Stars (2014)\n",
      "8418      Mulan II (2004)\n",
      "4583      Tightrope (1984)\n",
      "4496      Attack of the Puppet People (1958)\n",
      "4182      Dogfight (1991)\n"
     ]
    }
   ],
   "source": [
    "recommendation(1,5,find_movie(predicted_matrix))"
   ]
  },
  {
   "cell_type": "code",
   "execution_count": 280,
   "metadata": {},
   "outputs": [],
   "source": [
    "t_re=prediction2(user,movies,user_rating,100)\n",
    "predicted_matrix_re=t_re[1].dot(t_re[2].T)"
   ]
  },
  {
   "cell_type": "code",
   "execution_count": 281,
   "metadata": {},
   "outputs": [
    {
     "name": "stdout",
     "output_type": "stream",
     "text": [
      "9102      Slow Learners (2015)\n",
      "8418      Mulan II (2004)\n",
      "4182      Dogfight (1991)\n",
      "1813      Clue (1985)\n",
      "695      Maltese Falcon, The (1941)\n",
      "4496      Attack of the Puppet People (1958)\n"
     ]
    }
   ],
   "source": [
    "recommendation(1,5,find_movie(predicted_matrix_re))"
   ]
  },
  {
   "cell_type": "code",
   "execution_count": 161,
   "metadata": {},
   "outputs": [],
   "source": [
    "t_sw=prediction_sliding_w(user,movies,user_rating,1000,15)\n",
    "predicted_matrix_sw=t_sw[1].dot(t_sw[2].T)"
   ]
  },
  {
   "cell_type": "code",
   "execution_count": 167,
   "metadata": {},
   "outputs": [
    {
     "name": "stdout",
     "output_type": "stream",
     "text": [
      "9102      Slow Learners (2015)\n",
      "8446      The Fault in Our Stars (2014)\n",
      "8418      Mulan II (2004)\n",
      "4583      Tightrope (1984)\n",
      "4496      Attack of the Puppet People (1958)\n",
      "4182      Dogfight (1991)\n"
     ]
    }
   ],
   "source": [
    "recommendation(1,5,find_movie(predicted_matrix_sw))"
   ]
  },
  {
   "cell_type": "code",
   "execution_count": 163,
   "metadata": {},
   "outputs": [],
   "source": [
    "t_ls=prediction_line_search(user,movies,user_rating,1000,0.00001)\n",
    "predicted_matrix_ls=t_ls[1].dot(t_ls[2].T)"
   ]
  },
  {
   "cell_type": "code",
   "execution_count": 168,
   "metadata": {},
   "outputs": [
    {
     "name": "stdout",
     "output_type": "stream",
     "text": [
      "9102      Slow Learners (2015)\n",
      "8446      The Fault in Our Stars (2014)\n",
      "8418      Mulan II (2004)\n",
      "4583      Tightrope (1984)\n",
      "4496      Attack of the Puppet People (1958)\n",
      "4182      Dogfight (1991)\n"
     ]
    }
   ],
   "source": [
    "recommendation(1,5,find_movie(predicted_matrix_ls))"
   ]
  },
  {
   "cell_type": "code",
   "execution_count": 255,
   "metadata": {},
   "outputs": [],
   "source": [
    "def show(mat):\n",
    "    rate=[]\n",
    "    for i in range(user_rating.shape[0]):\n",
    "        for j in range(user_rating.shape[1]):\n",
    "            if(user_rating[i][j]!=0):\n",
    "                rate.append(mat[i][j])\n",
    "    m=min(rate)\n",
    "    n=max(rate)\n",
    "    plt.hist([(r-m)/(n-m) for r in rate],rwidth=0.5)\n",
    "    plt.show()"
   ]
  },
  {
   "cell_type": "code",
   "execution_count": 256,
   "metadata": {},
   "outputs": [
    {
     "data": {
      "image/png": "[encoded data removed]",
      "text/plain": [
       "<Figure size 432x288 with 1 Axes>"
      ]
     },
     "metadata": {
      "needs_background": "light"
     },
     "output_type": "display_data"
    }
   ],
   "source": [
    "print(\"Using Matrix Factorisation :\")\n",
    "show(predicted_matrix)\n"
   ]
  },
  {
   "cell_type": "code",
   "execution_count": 282,
   "metadata": {},
   "outputs": [
    {
     "name": "stdout",
     "output_type": "stream",
     "text": [
      "Using Regularisation :\n"
     ]
    },
    {
     "data": {
      "image/png": "[encoded data removed]",
      "text/plain": [
       "<Figure size 432x288 with 1 Axes>"
      ]
     },
     "metadata": {
      "needs_background": "light"
     },
     "output_type": "display_data"
    }
   ],
   "source": [
    "print(\"Using Regularisation :\")\n",
    "show(predicted_matrix_re)"
   ]
  },
  {
   "cell_type": "code",
   "execution_count": 261,
   "metadata": {},
   "outputs": [
    {
     "name": "stdout",
     "output_type": "stream",
     "text": [
      "Using Sliding Window :\n"
     ]
    },
    {
     "data": {
      "image/png": "[encoded data removed]",
      "text/plain": [
       "<Figure size 432x288 with 1 Axes>"
      ]
     },
     "metadata": {
      "needs_background": "light"
     },
     "output_type": "display_data"
    }
   ],
   "source": [
    "print(\"Using Sliding Window :\")\n",
    "show(predicted_matrix_sw)"
   ]
  },
  {
   "cell_type": "code",
   "execution_count": 262,
   "metadata": {},
   "outputs": [
    {
     "name": "stdout",
     "output_type": "stream",
     "text": [
      "Using line search :\n"
     ]
    },
    {
     "data": {
      "image/png": "[encoded data removed]",
      "text/plain": [
       "<Figure size 432x288 with 1 Axes>"
      ]
     },
     "metadata": {
      "needs_background": "light"
     },
     "output_type": "display_data"
    }
   ],
   "source": [
    "print(\"Using line search :\")\n",
    "show(predicted_matrix_ls)"
   ]
  },
  {
   "cell_type": "code",
   "execution_count": null,
   "metadata": {},
   "outputs": [],
   "source": []
  }
 ],
 "metadata": {
  "kernelspec": {
   "display_name": "Python 3",
   "language": "python",
   "name": "python3"
  },
  "language_info": {
   "codemirror_mode": {
    "name": "ipython",
    "version": 3
   },
   "file_extension": ".py",
   "mimetype": "text/x-python",
   "name": "python",
   "nbconvert_exporter": "python",
   "pygments_lexer": "ipython3",
   "version": "3.7.3"
  }
 },
 "nbformat": 4,
 "nbformat_minor": 2
}
