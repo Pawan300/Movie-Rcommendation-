{
  "nbformat": 4,
  "nbformat_minor": 0,
  "metadata": {
    "kernelspec": {
      "display_name": "Python 3",
      "language": "python",
      "name": "python3"
    },
    "language_info": {
      "codemirror_mode": {
        "name": "ipython",
        "version": 3
      },
      "file_extension": ".py",
      "mimetype": "text/x-python",
      "name": "python",
      "nbconvert_exporter": "python",
      "pygments_lexer": "ipython3",
      "version": "3.8.3"
    },
    "colab": {
      "name": "Untitled.ipynb",
      "provenance": []
    }
  },
  "cells": [
    {
      "cell_type": "code",
      "metadata": {
        "colab": {
          "base_uri": "https://localhost:8080/"
        },
        "id": "Phl6pHNEFrj6",
        "outputId": "2b3c736f-32e4-4ddf-cd2a-186789a5c2d5"
      },
      "source": [
        "from google.colab import drive\n",
        "drive.mount('/content/drive')"
      ],
      "execution_count": 163,
      "outputs": [
        {
          "output_type": "stream",
          "text": [
            "Drive already mounted at /content/drive; to attempt to forcibly remount, call drive.mount(\"/content/drive\", force_remount=True).\n"
          ],
          "name": "stdout"
        }
      ]
    },
    {
      "cell_type": "code",
      "metadata": {
        "id": "Ryurvtw6FerW"
      },
      "source": [
        "import math\n",
        "import os\n",
        "import random\n",
        "from collections import Counter\n",
        "\n",
        "import numpy as np\n",
        "import pandas as pd\n",
        "from matplotlib import pyplot as plt\n",
        "\n",
        "\n",
        "def loading_data(data_path):\n",
        "\n",
        "    if os.path.isfile(os.path.join(data_path, \"ratings.csv\")):\n",
        "        ratings = pd.read_csv(os.path.join(data_path, \"ratings.csv\"))\n",
        "        movies = pd.read_csv(os.path.join(data_path, \"movies.csv\"))\n",
        "        links = pd.read_csv(os.path.join(data_path, \"links.csv\"))\n",
        "        metadata = pd.read_csv(os.path.join(data_path, \"movies_metadata.csv\"))\n",
        "        return ratings, movies, links, metadata, True\n",
        "    else:\n",
        "        return [], [], [], [], False\n",
        "\n",
        "\n",
        "def analysis(ratings, movie_data):\n",
        "\n",
        "    print(\"Information about the data : \\n\")\n",
        "    print(\"*********************************************************\")\n",
        "    print(\"Number of Users :\", len(np.unique(ratings[\"userId\"])))\n",
        "    print(\"Number of movies :\", len(np.unique(movie_data[\"movieId\"])))\n",
        "\n",
        "    print(\"\\n*********************************************************\")\n",
        "    print(\"\\nMovies with highest number of user ratings :\\n\")\n",
        "    \n",
        "    for i in sorted(\n",
        "        Counter(ratings[\"movieId\"]).items(), key=lambda x: x[1], reverse=True\n",
        "    )[:5]:\n",
        "        print(movie_data[\"title\"][i[0]])\n",
        "\n",
        "    print(\"\\n*********************************************************\")\n",
        "    print(\"\\nUser who gave more ratings  :\")\n",
        "    print(\n",
        "        ratings.groupby(\"userId\")\n",
        "        .count()\n",
        "        .sort_values([\"movieId\"], ascending=False)[\"movieId\"]\n",
        "        .head(5)\n",
        "    )"
      ],
      "execution_count": 164,
      "outputs": []
    },
    {
      "cell_type": "code",
      "metadata": {
        "colab": {
          "base_uri": "https://localhost:8080/"
        },
        "id": "KwauDBfOFeri",
        "outputId": "f8fef30e-7957-49c1-e41c-b0f89bd215d0"
      },
      "source": [
        "ratings, movies_data, links, metadata, status = loading_data(r\"/content/drive/MyDrive/Colab Notebooks/Movie/Movie-Recommendation/dataset\")\n",
        "# movies_data[\"Overview\"] = \"Nan\""
      ],
      "execution_count": 165,
      "outputs": [
        {
          "output_type": "stream",
          "text": [
            "/usr/local/lib/python3.7/dist-packages/IPython/core/interactiveshell.py:2822: DtypeWarning: Columns (10) have mixed types.Specify dtype option on import or set low_memory=False.\n",
            "  if self.run_code(code, result):\n"
          ],
          "name": "stderr"
        }
      ]
    },
    {
      "cell_type": "code",
      "metadata": {
        "colab": {
          "base_uri": "https://localhost:8080/"
        },
        "id": "FsKoe8d7Ferj",
        "outputId": "3dc34412-58c2-4bc2-d732-4061f53864bf"
      },
      "source": [
        "ratings.shape, movies_data.shape, links.shape, metadata.shape"
      ],
      "execution_count": 166,
      "outputs": [
        {
          "output_type": "execute_result",
          "data": {
            "text/plain": [
              "((100836, 4), (9742, 3), (9742, 3), (45466, 24))"
            ]
          },
          "metadata": {
            "tags": []
          },
          "execution_count": 166
        }
      ]
    },
    {
      "cell_type": "code",
      "metadata": {
        "colab": {
          "base_uri": "https://localhost:8080/",
          "height": 197
        },
        "id": "h3yGuMNkFerl",
        "outputId": "94ac6492-c81e-462b-fad9-62af1a882fe7"
      },
      "source": [
        "ratings.head()"
      ],
      "execution_count": 167,
      "outputs": [
        {
          "output_type": "execute_result",
          "data": {
            "text/html": [
              "<div>\n",
              "<style scoped>\n",
              "    .dataframe tbody tr th:only-of-type {\n",
              "        vertical-align: middle;\n",
              "    }\n",
              "\n",
              "    .dataframe tbody tr th {\n",
              "        vertical-align: top;\n",
              "    }\n",
              "\n",
              "    .dataframe thead th {\n",
              "        text-align: right;\n",
              "    }\n",
              "</style>\n",
              "<table border=\"1\" class=\"dataframe\">\n",
              "  <thead>\n",
              "    <tr style=\"text-align: right;\">\n",
              "      <th></th>\n",
              "      <th>userId</th>\n",
              "      <th>movieId</th>\n",
              "      <th>rating</th>\n",
              "      <th>timestamp</th>\n",
              "    </tr>\n",
              "  </thead>\n",
              "  <tbody>\n",
              "    <tr>\n",
              "      <th>0</th>\n",
              "      <td>1</td>\n",
              "      <td>1</td>\n",
              "      <td>4.0</td>\n",
              "      <td>964982703</td>\n",
              "    </tr>\n",
              "    <tr>\n",
              "      <th>1</th>\n",
              "      <td>1</td>\n",
              "      <td>3</td>\n",
              "      <td>4.0</td>\n",
              "      <td>964981247</td>\n",
              "    </tr>\n",
              "    <tr>\n",
              "      <th>2</th>\n",
              "      <td>1</td>\n",
              "      <td>6</td>\n",
              "      <td>4.0</td>\n",
              "      <td>964982224</td>\n",
              "    </tr>\n",
              "    <tr>\n",
              "      <th>3</th>\n",
              "      <td>1</td>\n",
              "      <td>47</td>\n",
              "      <td>5.0</td>\n",
              "      <td>964983815</td>\n",
              "    </tr>\n",
              "    <tr>\n",
              "      <th>4</th>\n",
              "      <td>1</td>\n",
              "      <td>50</td>\n",
              "      <td>5.0</td>\n",
              "      <td>964982931</td>\n",
              "    </tr>\n",
              "  </tbody>\n",
              "</table>\n",
              "</div>"
            ],
            "text/plain": [
              "   userId  movieId  rating  timestamp\n",
              "0       1        1     4.0  964982703\n",
              "1       1        3     4.0  964981247\n",
              "2       1        6     4.0  964982224\n",
              "3       1       47     5.0  964983815\n",
              "4       1       50     5.0  964982931"
            ]
          },
          "metadata": {
            "tags": []
          },
          "execution_count": 167
        }
      ]
    },
    {
      "cell_type": "code",
      "metadata": {
        "colab": {
          "base_uri": "https://localhost:8080/",
          "height": 197
        },
        "id": "V2Tjw6OiFerm",
        "outputId": "0dd6d8f0-676e-48bd-8976-e3ef0dc1edaa"
      },
      "source": [
        "movies_data.head()"
      ],
      "execution_count": 168,
      "outputs": [
        {
          "output_type": "execute_result",
          "data": {
            "text/html": [
              "<div>\n",
              "<style scoped>\n",
              "    .dataframe tbody tr th:only-of-type {\n",
              "        vertical-align: middle;\n",
              "    }\n",
              "\n",
              "    .dataframe tbody tr th {\n",
              "        vertical-align: top;\n",
              "    }\n",
              "\n",
              "    .dataframe thead th {\n",
              "        text-align: right;\n",
              "    }\n",
              "</style>\n",
              "<table border=\"1\" class=\"dataframe\">\n",
              "  <thead>\n",
              "    <tr style=\"text-align: right;\">\n",
              "      <th></th>\n",
              "      <th>movieId</th>\n",
              "      <th>title</th>\n",
              "      <th>genres</th>\n",
              "    </tr>\n",
              "  </thead>\n",
              "  <tbody>\n",
              "    <tr>\n",
              "      <th>0</th>\n",
              "      <td>1</td>\n",
              "      <td>Toy Story (1995)</td>\n",
              "      <td>Adventure|Animation|Children|Comedy|Fantasy</td>\n",
              "    </tr>\n",
              "    <tr>\n",
              "      <th>1</th>\n",
              "      <td>2</td>\n",
              "      <td>Jumanji (1995)</td>\n",
              "      <td>Adventure|Children|Fantasy</td>\n",
              "    </tr>\n",
              "    <tr>\n",
              "      <th>2</th>\n",
              "      <td>3</td>\n",
              "      <td>Grumpier Old Men (1995)</td>\n",
              "      <td>Comedy|Romance</td>\n",
              "    </tr>\n",
              "    <tr>\n",
              "      <th>3</th>\n",
              "      <td>4</td>\n",
              "      <td>Waiting to Exhale (1995)</td>\n",
              "      <td>Comedy|Drama|Romance</td>\n",
              "    </tr>\n",
              "    <tr>\n",
              "      <th>4</th>\n",
              "      <td>5</td>\n",
              "      <td>Father of the Bride Part II (1995)</td>\n",
              "      <td>Comedy</td>\n",
              "    </tr>\n",
              "  </tbody>\n",
              "</table>\n",
              "</div>"
            ],
            "text/plain": [
              "   movieId  ...                                       genres\n",
              "0        1  ...  Adventure|Animation|Children|Comedy|Fantasy\n",
              "1        2  ...                   Adventure|Children|Fantasy\n",
              "2        3  ...                               Comedy|Romance\n",
              "3        4  ...                         Comedy|Drama|Romance\n",
              "4        5  ...                                       Comedy\n",
              "\n",
              "[5 rows x 3 columns]"
            ]
          },
          "metadata": {
            "tags": []
          },
          "execution_count": 168
        }
      ]
    },
    {
      "cell_type": "code",
      "metadata": {
        "id": "Rm-lANsEFero"
      },
      "source": [
        "import requests # to make TMDB API calls\n",
        "import locale # to format currency as USD\n",
        "locale.setlocale( locale.LC_ALL, '' )\n",
        "import json\n",
        "import pandas as pd"
      ],
      "execution_count": 169,
      "outputs": []
    },
    {
      "cell_type": "code",
      "metadata": {
        "id": "Cihczs4gFerp"
      },
      "source": [
        "API_key = '########################'\n",
        "\n",
        "def get_data(API_key, Movie_ID):\n",
        "    query = 'https://api.themoviedb.org/3/movie/'+str(Movie_ID)+'?api_key='+API_key+'&language=en-US'\n",
        "    response =  requests.get(query)\n",
        "    if response.status_code==200: \n",
        "        array = response.json()\n",
        "        text = json.dumps(array)\n",
        "        return (text)\n",
        "    else:\n",
        "        return (\"error\")\n",
        "\n",
        "def write_file(data):\n",
        "    \n",
        "    for i in range(data.shape[0]):\n",
        "        result = get_data(API_key, data[\"tmdbId\"].iloc[i])\n",
        "        \n",
        "        if result == \"error\":\n",
        "            overview = \"None\"\n",
        "        else:\n",
        "            dataset = json.loads(result)\n",
        "            try:\n",
        "                overview = dataset['overview']\n",
        "            except:\n",
        "                overview = \"None\"\n",
        "        data[\"Overview\"].iloc[i] = overview\n",
        "    return data"
      ],
      "execution_count": 170,
      "outputs": []
    },
    {
      "cell_type": "code",
      "metadata": {
        "id": "K93HLAuEFerq"
      },
      "source": [
        "def using_API_call(movies_data):\n",
        "  movies_data = pd.merge(links, movies_data, on=\"movieId\")\n",
        "\n",
        "  movies_data = movies_data.dropna()\n",
        "  movies_data[\"tmdbId\"] = movies_data[\"tmdbId\"].astype(\"int32\")\n",
        "\n",
        "  movies_data = write_file(movies_data)\n",
        "  return movies_data\n",
        "\n",
        "def using_metadata(metadata, movies_data):\n",
        "  metadata.rename(columns={\"id\":\"movieId\", \"genres\":\"movie_genres\"}, inplace=True)\n",
        "  movies_data.rename(columns={\"title\":\"movie_title\"}, inplace=True)\n",
        "  \n",
        "  metadata.rename(columns={\"id\":\"movieId\"}, inplace=True)\n",
        "  metadata = metadata.drop(labels=[35587,19730, 29503], axis=0)\n",
        "  metadata[\"movieId\"] = metadata[\"movieId\"].astype(\"int32\")\n",
        "\n",
        "  movies_data = pd.merge(metadata, movies_data, on=\"movieId\")\n",
        "  movies_data = movies_data.drop(['adult', 'belongs_to_collection', 'budget', 'homepage','movie_genres', 'movie_title',\n",
        "       'imdb_id', 'original_language', 'original_title',\n",
        "       'popularity', 'poster_path', 'production_companies',\n",
        "       'production_countries', 'release_date', 'revenue', 'runtime',''\n",
        "       'spoken_languages', 'status', 'tagline', 'video',\n",
        "       'vote_average', 'vote_count'], axis=\"columns\")\n",
        "  movies_data = movies_data.dropna()\n",
        "\n",
        "  return movies_data"
      ],
      "execution_count": 171,
      "outputs": []
    },
    {
      "cell_type": "code",
      "metadata": {
        "colab": {
          "base_uri": "https://localhost:8080/"
        },
        "id": "740ph5gIe3CM",
        "outputId": "72990995-75ed-49eb-a82d-90420e72a765"
      },
      "source": [
        "metadata.columns"
      ],
      "execution_count": 172,
      "outputs": [
        {
          "output_type": "execute_result",
          "data": {
            "text/plain": [
              "Index(['adult', 'belongs_to_collection', 'budget', 'genres', 'homepage', 'id',\n",
              "       'imdb_id', 'original_language', 'original_title', 'overview',\n",
              "       'popularity', 'poster_path', 'production_companies',\n",
              "       'production_countries', 'release_date', 'revenue', 'runtime',\n",
              "       'spoken_languages', 'status', 'tagline', 'title', 'video',\n",
              "       'vote_average', 'vote_count'],\n",
              "      dtype='object')"
            ]
          },
          "metadata": {
            "tags": []
          },
          "execution_count": 172
        }
      ]
    },
    {
      "cell_type": "code",
      "metadata": {
        "id": "YUX2QKBzdEQN"
      },
      "source": [
        "# def using_metadata_and_API(metadata, movies_data, links):\n",
        "  \n",
        "#   movies_data = pd.merge(links, movies_data, on=\"movieId\")\n",
        "#   movies_data = movies_data.dropna()\n",
        "\n",
        "#   for i in range(movies_data.shape[0]):\n",
        "    \n",
        "#     try:\n",
        "#       temp = metadata[metadata[\"id\"] == movies_data[\"movieId\"].iloc[i]]\n",
        "#       if len(temp) > 0:\n",
        "#            overview = temp[\"Overview\"].iloc[0]\n",
        "#       else:\n",
        "#           overview = \"None\"\n",
        "#           # result = get_data(API_key, movies_data[\"tmdbId\"].iloc[i])\n",
        "          \n",
        "#           # if result == \"error\":\n",
        "#           #     overview = \"None\"\n",
        "#           # else:\n",
        "#           #     dataset = json.loads(result)\n",
        "#           #     try:\n",
        "#           #         overview = dataset['overview']\n",
        "#           #     except:\n",
        "#           #         overview = \"None\"\n",
        "#       movies_data[\"Overview\"].iloc[i] = overview\n",
        "#     except Exception as w:\n",
        "#       print(w)\n",
        "\n",
        "#   return movies_data"
      ],
      "execution_count": 173,
      "outputs": []
    },
    {
      "cell_type": "code",
      "metadata": {
        "colab": {
          "base_uri": "https://localhost:8080/"
        },
        "id": "eqsUS_E7Ferr",
        "outputId": "17b3bc65-b4e1-4269-dfcb-666119c975cb"
      },
      "source": [
        "movies_data = using_metadata(metadata, movies_data)\n",
        "movies_data.shape"
      ],
      "execution_count": 174,
      "outputs": [
        {
          "output_type": "execute_result",
          "data": {
            "text/plain": [
              "(2776, 4)"
            ]
          },
          "metadata": {
            "tags": []
          },
          "execution_count": 174
        }
      ]
    },
    {
      "cell_type": "code",
      "metadata": {
        "id": "pvpRsWFLPzLw"
      },
      "source": [
        "from sklearn.feature_extraction.text import TfidfVectorizer\n",
        "tfv = TfidfVectorizer(min_df=3,  max_features=None,\n",
        "            strip_accents='unicode', analyzer='word',token_pattern=r'\\w{1,}',\n",
        "            ngram_range=(1, 3),\n",
        "            stop_words = 'english')"
      ],
      "execution_count": 175,
      "outputs": []
    },
    {
      "cell_type": "code",
      "metadata": {
        "colab": {
          "base_uri": "https://localhost:8080/"
        },
        "id": "l4qD1c-FPzJm",
        "outputId": "41aca97f-7589-47c8-8f0a-462b48b4dfec"
      },
      "source": [
        "tfv_matrix = tfv.fit_transform(movies_data['overview'])\n",
        "print(tfv_matrix.shape)"
      ],
      "execution_count": 176,
      "outputs": [
        {
          "output_type": "stream",
          "text": [
            "(2776, 6407)\n"
          ],
          "name": "stdout"
        }
      ]
    },
    {
      "cell_type": "code",
      "metadata": {
        "colab": {
          "base_uri": "https://localhost:8080/"
        },
        "id": "0OgfJWjPP5Sr",
        "outputId": "1260d93b-f9f6-47ef-e30f-ce8771e505e7"
      },
      "source": [
        "tfv_matrix"
      ],
      "execution_count": 177,
      "outputs": [
        {
          "output_type": "execute_result",
          "data": {
            "text/plain": [
              "<2776x6407 sparse matrix of type '<class 'numpy.float64'>'\n",
              "\twith 65610 stored elements in Compressed Sparse Row format>"
            ]
          },
          "metadata": {
            "tags": []
          },
          "execution_count": 177
        }
      ]
    },
    {
      "cell_type": "code",
      "metadata": {
        "id": "tKmRyQL1ZdR4"
      },
      "source": [
        "# movies_data.to_csv(r\"/content/drive/MyDrive/Colab Notebooks/Movie/Movie-Recommendation/dataset/processed_dataset\")"
      ],
      "execution_count": 178,
      "outputs": []
    },
    {
      "cell_type": "code",
      "metadata": {
        "colab": {
          "base_uri": "https://localhost:8080/"
        },
        "id": "bbiK-AwaZQjC",
        "outputId": "e0494d87-6d76-4218-8739-d81df2669a5c"
      },
      "source": [
        "from sklearn.metrics.pairwise import sigmoid_kernel\n",
        "\n",
        "# Compute the sigmoid kernel\n",
        "sig = sigmoid_kernel(tfv_matrix, tfv_matrix)\n",
        "print(sig[0])"
      ],
      "execution_count": 179,
      "outputs": [
        {
          "output_type": "stream",
          "text": [
            "[0.7616597  0.76159805 0.76159416 ... 0.76159416 0.76159416 0.76159416]\n"
          ],
          "name": "stdout"
        }
      ]
    },
    {
      "cell_type": "code",
      "metadata": {
        "id": "t9gVN7iqQJhT"
      },
      "source": [
        "def give_recomendations(title, sig=sig):\n",
        "    # Get the index corresponding to original_title\n",
        "    idx = movies_data.index[movies_data[\"title\"] == title].tolist()\n",
        "    if len(idx) > 1:\n",
        "      print(\"More than one movie is register with this name!!!!!!!!!\")\n",
        "    elif len(idx) == 0:\n",
        "      print(\"Movie is not registered with us!!!!!!!!!!\")\n",
        "    else:\n",
        "      idx = idx[0]\n",
        "      # Get the pairwsie similarity scores\n",
        "      sig_scores = list(enumerate(sig[idx]))\n",
        "\n",
        "      # Sort the movies\n",
        "      sig_scores = sorted(sig_scores, key=lambda x: x[1], reverse=True)\n",
        "\n",
        "      # Scores of the 10 most similar movies\n",
        "      sig_scores = sig_scores[1:11]\n",
        "\n",
        "      # Movie indices\n",
        "      movie_indices = [i[0] for i in sig_scores]\n",
        "\n",
        "      # Top 10 most similar movies\n",
        "      return movies_data['title'].iloc[movie_indices]"
      ],
      "execution_count": 184,
      "outputs": []
    },
    {
      "cell_type": "code",
      "metadata": {
        "colab": {
          "base_uri": "https://localhost:8080/"
        },
        "id": "1T1Bvn-LQNMY",
        "outputId": "56c148f6-a60b-4d8d-86a6-9c9bdc5974e9"
      },
      "source": [
        "give_recomendations(\"Casino\",sig)"
      ],
      "execution_count": 187,
      "outputs": [
        {
          "output_type": "execute_result",
          "data": {
            "text/plain": [
              "2368           The Grasshopper\n",
              "2120       The Las Vegas Story\n",
              "809             Ocean's Eleven\n",
              "1692                 Lucky You\n",
              "8            Leaving Las Vegas\n",
              "1070              Over the Top\n",
              "218     The Godfather: Part II\n",
              "1142            Viva Las Vegas\n",
              "810             Ocean's Eleven\n",
              "292              Fools Rush In\n",
              "Name: title, dtype: object"
            ]
          },
          "metadata": {
            "tags": []
          },
          "execution_count": 187
        }
      ]
    },
    {
      "cell_type": "code",
      "metadata": {
        "id": "zvyrToz2g2Pe"
      },
      "source": [
        ""
      ],
      "execution_count": 182,
      "outputs": []
    }
  ]
}